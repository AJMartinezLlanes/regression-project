{
 "cells": [
  {
   "cell_type": "code",
   "execution_count": 1,
   "metadata": {},
   "outputs": [],
   "source": [
    "import numpy as np\n",
    "import pandas as pd\n",
    "import matplotlib.pyplot as plt\n",
    "import seaborn as sns\n",
    "\n",
    "import env\n",
    "from sklearn.model_selection import train_test_split\n",
    "\n",
    "import warnings\n",
    "warnings.filterwarnings('ignore')"
   ]
  },
  {
   "cell_type": "markdown",
   "metadata": {},
   "source": [
    "# Acquire Zillow Data\n",
    "\n",
    "Acquire bedroomcnt, bathroomcnt, calculatedfinishsquarefeet, taxvaluedollarcnt, yearbuilt, and fips from Zillow Database "
   ]
  },
  {
   "cell_type": "code",
   "execution_count": 2,
   "metadata": {},
   "outputs": [],
   "source": [
    "# Using env file to import user, password and hostname allowing access to SQL database\n",
    "url = f'mysql+pymysql://{env.user}:{env.password}@{env.host}/zillow'\n",
    "\n",
    "# SQL Query will be used to retrieve data from SQL Database \n",
    "query = '''\n",
    "        SELECT bedroomcnt, \n",
    "                bathroomcnt, \n",
    "                calculatedfinishedsquarefeet, \n",
    "                taxvaluedollarcnt, \n",
    "                yearbuilt,\n",
    "                fips \n",
    "        FROM properties_2017\n",
    "        JOIN propertylandusetype USING (propertylandusetypeid)\n",
    "        JOIN predictions_2017 USING(parcelid)\n",
    "        WHERE propertylandusedesc IN (\"Single Family Residential\", \n",
    "                                        \"Inferred Single Family Residential\")\n",
    "            AND transactiondate LIKE \"2017%%\";\n",
    "        '''"
   ]
  },
  {
   "cell_type": "markdown",
   "metadata": {},
   "source": [
    "## Assign data to a variable then show the variable's head"
   ]
  },
  {
   "cell_type": "code",
   "execution_count": 3,
   "metadata": {},
   "outputs": [
    {
     "data": {
      "text/html": [
       "<div>\n",
       "<style scoped>\n",
       "    .dataframe tbody tr th:only-of-type {\n",
       "        vertical-align: middle;\n",
       "    }\n",
       "\n",
       "    .dataframe tbody tr th {\n",
       "        vertical-align: top;\n",
       "    }\n",
       "\n",
       "    .dataframe thead th {\n",
       "        text-align: right;\n",
       "    }\n",
       "</style>\n",
       "<table border=\"1\" class=\"dataframe\">\n",
       "  <thead>\n",
       "    <tr style=\"text-align: right;\">\n",
       "      <th></th>\n",
       "      <th>bedroomcnt</th>\n",
       "      <th>bathroomcnt</th>\n",
       "      <th>calculatedfinishedsquarefeet</th>\n",
       "      <th>taxvaluedollarcnt</th>\n",
       "      <th>yearbuilt</th>\n",
       "      <th>fips</th>\n",
       "    </tr>\n",
       "  </thead>\n",
       "  <tbody>\n",
       "    <tr>\n",
       "      <th>0</th>\n",
       "      <td>4.0</td>\n",
       "      <td>3.5</td>\n",
       "      <td>3100.0</td>\n",
       "      <td>1023282.0</td>\n",
       "      <td>1998.0</td>\n",
       "      <td>6059.0</td>\n",
       "    </tr>\n",
       "    <tr>\n",
       "      <th>1</th>\n",
       "      <td>2.0</td>\n",
       "      <td>1.0</td>\n",
       "      <td>1465.0</td>\n",
       "      <td>464000.0</td>\n",
       "      <td>1967.0</td>\n",
       "      <td>6111.0</td>\n",
       "    </tr>\n",
       "    <tr>\n",
       "      <th>2</th>\n",
       "      <td>3.0</td>\n",
       "      <td>2.0</td>\n",
       "      <td>1243.0</td>\n",
       "      <td>564778.0</td>\n",
       "      <td>1962.0</td>\n",
       "      <td>6059.0</td>\n",
       "    </tr>\n",
       "    <tr>\n",
       "      <th>3</th>\n",
       "      <td>4.0</td>\n",
       "      <td>3.0</td>\n",
       "      <td>2376.0</td>\n",
       "      <td>145143.0</td>\n",
       "      <td>1970.0</td>\n",
       "      <td>6037.0</td>\n",
       "    </tr>\n",
       "    <tr>\n",
       "      <th>4</th>\n",
       "      <td>4.0</td>\n",
       "      <td>3.0</td>\n",
       "      <td>2962.0</td>\n",
       "      <td>773303.0</td>\n",
       "      <td>1950.0</td>\n",
       "      <td>6037.0</td>\n",
       "    </tr>\n",
       "  </tbody>\n",
       "</table>\n",
       "</div>"
      ],
      "text/plain": [
       "   bedroomcnt  bathroomcnt  calculatedfinishedsquarefeet  taxvaluedollarcnt  \\\n",
       "0         4.0          3.5                        3100.0          1023282.0   \n",
       "1         2.0          1.0                        1465.0           464000.0   \n",
       "2         3.0          2.0                        1243.0           564778.0   \n",
       "3         4.0          3.0                        2376.0           145143.0   \n",
       "4         4.0          3.0                        2962.0           773303.0   \n",
       "\n",
       "   yearbuilt    fips  \n",
       "0     1998.0  6059.0  \n",
       "1     1967.0  6111.0  \n",
       "2     1962.0  6059.0  \n",
       "3     1970.0  6037.0  \n",
       "4     1950.0  6037.0  "
      ]
     },
     "execution_count": 3,
     "metadata": {},
     "output_type": "execute_result"
    }
   ],
   "source": [
    "data = pd.read_sql(query, url)\n",
    "df =  data.copy()\n",
    "df.head()"
   ]
  },
  {
   "cell_type": "markdown",
   "metadata": {},
   "source": [
    "## Rename columns for easier reference"
   ]
  },
  {
   "cell_type": "code",
   "execution_count": 4,
   "metadata": {},
   "outputs": [
    {
     "data": {
      "text/html": [
       "<div>\n",
       "<style scoped>\n",
       "    .dataframe tbody tr th:only-of-type {\n",
       "        vertical-align: middle;\n",
       "    }\n",
       "\n",
       "    .dataframe tbody tr th {\n",
       "        vertical-align: top;\n",
       "    }\n",
       "\n",
       "    .dataframe thead th {\n",
       "        text-align: right;\n",
       "    }\n",
       "</style>\n",
       "<table border=\"1\" class=\"dataframe\">\n",
       "  <thead>\n",
       "    <tr style=\"text-align: right;\">\n",
       "      <th></th>\n",
       "      <th>bedrooms</th>\n",
       "      <th>bathrooms</th>\n",
       "      <th>sqft</th>\n",
       "      <th>tax_value</th>\n",
       "      <th>year_built</th>\n",
       "      <th>fips</th>\n",
       "    </tr>\n",
       "  </thead>\n",
       "  <tbody>\n",
       "    <tr>\n",
       "      <th>0</th>\n",
       "      <td>4.0</td>\n",
       "      <td>3.5</td>\n",
       "      <td>3100.0</td>\n",
       "      <td>1023282.0</td>\n",
       "      <td>1998.0</td>\n",
       "      <td>6059.0</td>\n",
       "    </tr>\n",
       "    <tr>\n",
       "      <th>1</th>\n",
       "      <td>2.0</td>\n",
       "      <td>1.0</td>\n",
       "      <td>1465.0</td>\n",
       "      <td>464000.0</td>\n",
       "      <td>1967.0</td>\n",
       "      <td>6111.0</td>\n",
       "    </tr>\n",
       "    <tr>\n",
       "      <th>2</th>\n",
       "      <td>3.0</td>\n",
       "      <td>2.0</td>\n",
       "      <td>1243.0</td>\n",
       "      <td>564778.0</td>\n",
       "      <td>1962.0</td>\n",
       "      <td>6059.0</td>\n",
       "    </tr>\n",
       "    <tr>\n",
       "      <th>3</th>\n",
       "      <td>4.0</td>\n",
       "      <td>3.0</td>\n",
       "      <td>2376.0</td>\n",
       "      <td>145143.0</td>\n",
       "      <td>1970.0</td>\n",
       "      <td>6037.0</td>\n",
       "    </tr>\n",
       "    <tr>\n",
       "      <th>4</th>\n",
       "      <td>4.0</td>\n",
       "      <td>3.0</td>\n",
       "      <td>2962.0</td>\n",
       "      <td>773303.0</td>\n",
       "      <td>1950.0</td>\n",
       "      <td>6037.0</td>\n",
       "    </tr>\n",
       "  </tbody>\n",
       "</table>\n",
       "</div>"
      ],
      "text/plain": [
       "   bedrooms  bathrooms    sqft  tax_value  year_built    fips\n",
       "0       4.0        3.5  3100.0  1023282.0      1998.0  6059.0\n",
       "1       2.0        1.0  1465.0   464000.0      1967.0  6111.0\n",
       "2       3.0        2.0  1243.0   564778.0      1962.0  6059.0\n",
       "3       4.0        3.0  2376.0   145143.0      1970.0  6037.0\n",
       "4       4.0        3.0  2962.0   773303.0      1950.0  6037.0"
      ]
     },
     "execution_count": 4,
     "metadata": {},
     "output_type": "execute_result"
    }
   ],
   "source": [
    "df = df.rename(columns = {'bedroomcnt':'bedrooms',\n",
    "                          'bathroomcnt':'bathrooms',\n",
    "                          'calculatedfinishedsquarefeet':'sqft',\n",
    "                          'taxvaluedollarcnt':'tax_value',\n",
    "                          'yearbuilt':'year_built'})\n",
    "df.head()"
   ]
  },
  {
   "cell_type": "markdown",
   "metadata": {},
   "source": [
    "## Copy the dataframe into a CSV file for faster access\n"
   ]
  },
  {
   "cell_type": "code",
   "execution_count": 5,
   "metadata": {},
   "outputs": [],
   "source": [
    "df.to_csv('zillow.csv', index=False)"
   ]
  },
  {
   "cell_type": "code",
   "execution_count": 6,
   "metadata": {},
   "outputs": [
    {
     "name": "stdout",
     "output_type": "stream",
     "text": [
      "<class 'pandas.core.frame.DataFrame'>\n",
      "RangeIndex: 52441 entries, 0 to 52440\n",
      "Data columns (total 6 columns):\n",
      " #   Column      Non-Null Count  Dtype  \n",
      "---  ------      --------------  -----  \n",
      " 0   bedrooms    52441 non-null  float64\n",
      " 1   bathrooms   52441 non-null  float64\n",
      " 2   sqft        52359 non-null  float64\n",
      " 3   tax_value   52440 non-null  float64\n",
      " 4   year_built  52325 non-null  float64\n",
      " 5   fips        52441 non-null  float64\n",
      "dtypes: float64(6)\n",
      "memory usage: 2.4 MB\n"
     ]
    }
   ],
   "source": [
    "df.info()"
   ]
  },
  {
   "cell_type": "markdown",
   "metadata": {},
   "source": [
    "## Takeaways:\n",
    "- Column names can be cleaned up\n",
    "- 'bedroomcnt' and 'yearbuilt' are always integers \n",
    "- 'fips' dtype is not valuable as a float. It would be better to have it as an object  "
   ]
  },
  {
   "cell_type": "code",
   "execution_count": 7,
   "metadata": {},
   "outputs": [],
   "source": [
    "# create a function for faster access and reproducibility\n",
    "def get_zillow_data():    \n",
    "    \n",
    "    '''This function will acquire data from zillow using env file and rename the columns before saving it as CSV'''\n",
    "\n",
    "    filename = 'zillow.csv'\n",
    "    if os.path.exists(filename):\n",
    "        print('Reading from csv file...')\n",
    "        return pd.read_csv(filename)\n",
    "      \n",
    "    query = '''\n",
    "        SELECT bedroomcnt, \n",
    "                bathroomcnt, \n",
    "                calculatedfinishedsquarefeet, \n",
    "                taxvaluedollarcnt, \n",
    "                yearbuilt,\n",
    "                fips \n",
    "        FROM properties_2017\n",
    "        JOIN propertylandusetype USING (propertylandusetypeid)\n",
    "        JOIN predictions_2017 USING(parcelid)\n",
    "        WHERE propertylandusedesc IN (\"Single Family Residential\", \n",
    "                                        \"Inferred Single Family Residential\")\n",
    "            AND transactiondate LIKE \"2017%%\";\n",
    "        '''\n",
    "    print('Getting a fresh copy from SQL database...')\n",
    "    df = pd.read_sql(query, get_db_url('zillow'))\n",
    "    print('Saving to csv...')\n",
    "    \n",
    "    df = df.rename(columns = {'bedroomcnt':'bedrooms',\n",
    "                          'bathroomcnt':'bathrooms',\n",
    "                          'calculatedfinishedsquarefeet':'sqft',\n",
    "                          'taxvaluedollarcnt':'tax_value',\n",
    "                          'yearbuilt':'year_built'})\n",
    "    df.to_csv(filename, index=False)\n",
    "    return df"
   ]
  },
  {
   "cell_type": "markdown",
   "metadata": {},
   "source": [
    "# Wrangle Zillow Data"
   ]
  },
  {
   "cell_type": "markdown",
   "metadata": {},
   "source": [
    "Check the information of the dataframe by running:\n",
    "- df.head() to check what is \n",
    "- df.info() to look at the counts and dtypes\n",
    "- df.isnull() to check for nulls\n",
    "- df.describe() to see all the stats"
   ]
  },
  {
   "cell_type": "code",
   "execution_count": 8,
   "metadata": {},
   "outputs": [
    {
     "name": "stdout",
     "output_type": "stream",
     "text": [
      "Reading from csv file...\n"
     ]
    }
   ],
   "source": [
    "df = get_zillow_data()"
   ]
  },
  {
   "cell_type": "code",
   "execution_count": 9,
   "metadata": {},
   "outputs": [
    {
     "data": {
      "text/html": [
       "<div>\n",
       "<style scoped>\n",
       "    .dataframe tbody tr th:only-of-type {\n",
       "        vertical-align: middle;\n",
       "    }\n",
       "\n",
       "    .dataframe tbody tr th {\n",
       "        vertical-align: top;\n",
       "    }\n",
       "\n",
       "    .dataframe thead th {\n",
       "        text-align: right;\n",
       "    }\n",
       "</style>\n",
       "<table border=\"1\" class=\"dataframe\">\n",
       "  <thead>\n",
       "    <tr style=\"text-align: right;\">\n",
       "      <th></th>\n",
       "      <th>bedrooms</th>\n",
       "      <th>bathrooms</th>\n",
       "      <th>sqft</th>\n",
       "      <th>tax_value</th>\n",
       "      <th>year_built</th>\n",
       "      <th>fips</th>\n",
       "    </tr>\n",
       "  </thead>\n",
       "  <tbody>\n",
       "    <tr>\n",
       "      <th>0</th>\n",
       "      <td>4.0</td>\n",
       "      <td>3.5</td>\n",
       "      <td>3100.0</td>\n",
       "      <td>1023282.0</td>\n",
       "      <td>1998.0</td>\n",
       "      <td>6059.0</td>\n",
       "    </tr>\n",
       "    <tr>\n",
       "      <th>1</th>\n",
       "      <td>2.0</td>\n",
       "      <td>1.0</td>\n",
       "      <td>1465.0</td>\n",
       "      <td>464000.0</td>\n",
       "      <td>1967.0</td>\n",
       "      <td>6111.0</td>\n",
       "    </tr>\n",
       "    <tr>\n",
       "      <th>2</th>\n",
       "      <td>3.0</td>\n",
       "      <td>2.0</td>\n",
       "      <td>1243.0</td>\n",
       "      <td>564778.0</td>\n",
       "      <td>1962.0</td>\n",
       "      <td>6059.0</td>\n",
       "    </tr>\n",
       "    <tr>\n",
       "      <th>3</th>\n",
       "      <td>4.0</td>\n",
       "      <td>3.0</td>\n",
       "      <td>2376.0</td>\n",
       "      <td>145143.0</td>\n",
       "      <td>1970.0</td>\n",
       "      <td>6037.0</td>\n",
       "    </tr>\n",
       "    <tr>\n",
       "      <th>4</th>\n",
       "      <td>4.0</td>\n",
       "      <td>3.0</td>\n",
       "      <td>2962.0</td>\n",
       "      <td>773303.0</td>\n",
       "      <td>1950.0</td>\n",
       "      <td>6037.0</td>\n",
       "    </tr>\n",
       "  </tbody>\n",
       "</table>\n",
       "</div>"
      ],
      "text/plain": [
       "   bedrooms  bathrooms    sqft  tax_value  year_built    fips\n",
       "0       4.0        3.5  3100.0  1023282.0      1998.0  6059.0\n",
       "1       2.0        1.0  1465.0   464000.0      1967.0  6111.0\n",
       "2       3.0        2.0  1243.0   564778.0      1962.0  6059.0\n",
       "3       4.0        3.0  2376.0   145143.0      1970.0  6037.0\n",
       "4       4.0        3.0  2962.0   773303.0      1950.0  6037.0"
      ]
     },
     "execution_count": 9,
     "metadata": {},
     "output_type": "execute_result"
    }
   ],
   "source": [
    "df.head()"
   ]
  },
  {
   "cell_type": "code",
   "execution_count": 10,
   "metadata": {},
   "outputs": [
    {
     "data": {
      "text/plain": [
       "bedrooms        0\n",
       "bathrooms       0\n",
       "sqft           82\n",
       "tax_value       1\n",
       "year_built    116\n",
       "fips            0\n",
       "dtype: int64"
      ]
     },
     "execution_count": 10,
     "metadata": {},
     "output_type": "execute_result"
    }
   ],
   "source": [
    "df.isnull().sum()"
   ]
  },
  {
   "cell_type": "code",
   "execution_count": 11,
   "metadata": {},
   "outputs": [
    {
     "name": "stdout",
     "output_type": "stream",
     "text": [
      "<class 'pandas.core.frame.DataFrame'>\n",
      "RangeIndex: 52441 entries, 0 to 52440\n",
      "Data columns (total 6 columns):\n",
      " #   Column      Non-Null Count  Dtype  \n",
      "---  ------      --------------  -----  \n",
      " 0   bedrooms    52441 non-null  float64\n",
      " 1   bathrooms   52441 non-null  float64\n",
      " 2   sqft        52359 non-null  float64\n",
      " 3   tax_value   52440 non-null  float64\n",
      " 4   year_built  52325 non-null  float64\n",
      " 5   fips        52441 non-null  float64\n",
      "dtypes: float64(6)\n",
      "memory usage: 2.4 MB\n"
     ]
    }
   ],
   "source": [
    "df.info()"
   ]
  },
  {
   "cell_type": "code",
   "execution_count": 12,
   "metadata": {},
   "outputs": [
    {
     "data": {
      "text/html": [
       "<div>\n",
       "<style scoped>\n",
       "    .dataframe tbody tr th:only-of-type {\n",
       "        vertical-align: middle;\n",
       "    }\n",
       "\n",
       "    .dataframe tbody tr th {\n",
       "        vertical-align: top;\n",
       "    }\n",
       "\n",
       "    .dataframe thead th {\n",
       "        text-align: right;\n",
       "    }\n",
       "</style>\n",
       "<table border=\"1\" class=\"dataframe\">\n",
       "  <thead>\n",
       "    <tr style=\"text-align: right;\">\n",
       "      <th></th>\n",
       "      <th>count</th>\n",
       "      <th>mean</th>\n",
       "      <th>std</th>\n",
       "      <th>min</th>\n",
       "      <th>25%</th>\n",
       "      <th>50%</th>\n",
       "      <th>75%</th>\n",
       "      <th>max</th>\n",
       "    </tr>\n",
       "  </thead>\n",
       "  <tbody>\n",
       "    <tr>\n",
       "      <th>bedrooms</th>\n",
       "      <td>52441.0</td>\n",
       "      <td>3.300681</td>\n",
       "      <td>0.949094</td>\n",
       "      <td>0.0</td>\n",
       "      <td>3.0</td>\n",
       "      <td>3.0</td>\n",
       "      <td>4.00</td>\n",
       "      <td>14.0</td>\n",
       "    </tr>\n",
       "    <tr>\n",
       "      <th>bathrooms</th>\n",
       "      <td>52441.0</td>\n",
       "      <td>2.299403</td>\n",
       "      <td>1.022772</td>\n",
       "      <td>0.0</td>\n",
       "      <td>2.0</td>\n",
       "      <td>2.0</td>\n",
       "      <td>3.00</td>\n",
       "      <td>18.0</td>\n",
       "    </tr>\n",
       "    <tr>\n",
       "      <th>sqft</th>\n",
       "      <td>52359.0</td>\n",
       "      <td>1922.890754</td>\n",
       "      <td>1004.365838</td>\n",
       "      <td>128.0</td>\n",
       "      <td>1268.0</td>\n",
       "      <td>1659.0</td>\n",
       "      <td>2306.00</td>\n",
       "      <td>21929.0</td>\n",
       "    </tr>\n",
       "    <tr>\n",
       "      <th>tax_value</th>\n",
       "      <td>52440.0</td>\n",
       "      <td>529688.163921</td>\n",
       "      <td>751894.553363</td>\n",
       "      <td>1000.0</td>\n",
       "      <td>193747.5</td>\n",
       "      <td>373612.0</td>\n",
       "      <td>619301.25</td>\n",
       "      <td>49061236.0</td>\n",
       "    </tr>\n",
       "    <tr>\n",
       "      <th>year_built</th>\n",
       "      <td>52325.0</td>\n",
       "      <td>1963.393884</td>\n",
       "      <td>23.133571</td>\n",
       "      <td>1878.0</td>\n",
       "      <td>1950.0</td>\n",
       "      <td>1961.0</td>\n",
       "      <td>1979.00</td>\n",
       "      <td>2016.0</td>\n",
       "    </tr>\n",
       "    <tr>\n",
       "      <th>fips</th>\n",
       "      <td>52441.0</td>\n",
       "      <td>6049.132149</td>\n",
       "      <td>21.029067</td>\n",
       "      <td>6037.0</td>\n",
       "      <td>6037.0</td>\n",
       "      <td>6037.0</td>\n",
       "      <td>6059.00</td>\n",
       "      <td>6111.0</td>\n",
       "    </tr>\n",
       "  </tbody>\n",
       "</table>\n",
       "</div>"
      ],
      "text/plain": [
       "              count           mean            std     min       25%       50%  \\\n",
       "bedrooms    52441.0       3.300681       0.949094     0.0       3.0       3.0   \n",
       "bathrooms   52441.0       2.299403       1.022772     0.0       2.0       2.0   \n",
       "sqft        52359.0    1922.890754    1004.365838   128.0    1268.0    1659.0   \n",
       "tax_value   52440.0  529688.163921  751894.553363  1000.0  193747.5  373612.0   \n",
       "year_built  52325.0    1963.393884      23.133571  1878.0    1950.0    1961.0   \n",
       "fips        52441.0    6049.132149      21.029067  6037.0    6037.0    6037.0   \n",
       "\n",
       "                  75%         max  \n",
       "bedrooms         4.00        14.0  \n",
       "bathrooms        3.00        18.0  \n",
       "sqft          2306.00     21929.0  \n",
       "tax_value   619301.25  49061236.0  \n",
       "year_built    1979.00      2016.0  \n",
       "fips          6059.00      6111.0  "
      ]
     },
     "execution_count": 12,
     "metadata": {},
     "output_type": "execute_result"
    }
   ],
   "source": [
    "df.describe().T"
   ]
  },
  {
   "cell_type": "markdown",
   "metadata": {},
   "source": [
    "## Visualize data"
   ]
  },
  {
   "cell_type": "code",
   "execution_count": 13,
   "metadata": {},
   "outputs": [
    {
     "data": {
      "image/png": "[encoded data removed]",
      "text/plain": [
       "<Figure size 432x288 with 1 Axes>"
      ]
     },
     "metadata": {
      "needs_background": "light"
     },
     "output_type": "display_data"
    },
    {
     "data": {
      "image/png": "[encoded data removed]",
      "text/plain": [
       "<Figure size 432x288 with 1 Axes>"
      ]
     },
     "metadata": {
      "needs_background": "light"
     },
     "output_type": "display_data"
    },
    {
     "data": {
      "image/png": "[encoded data removed]",
      "text/plain": [
       "<Figure size 432x288 with 1 Axes>"
      ]
     },
     "metadata": {
      "needs_background": "light"
     },
     "output_type": "display_data"
    },
    {
     "data": {
      "image/png": "[encoded data removed]",
      "text/plain": [
       "<Figure size 432x288 with 1 Axes>"
      ]
     },
     "metadata": {
      "needs_background": "light"
     },
     "output_type": "display_data"
    },
    {
     "data": {
      "image/png": "[encoded data removed]",
      "text/plain": [
       "<Figure size 432x288 with 1 Axes>"
      ]
     },
     "metadata": {
      "needs_background": "light"
     },
     "output_type": "display_data"
    },
    {
     "data": {
      "image/png": "[encoded data removed]",
      "text/plain": [
       "<Figure size 432x288 with 1 Axes>"
      ]
     },
     "metadata": {
      "needs_background": "light"
     },
     "output_type": "display_data"
    }
   ],
   "source": [
    "\n",
    "# List of columns\n",
    "cols = df.columns\n",
    "\n",
    "\n",
    "for col in cols:\n",
    "   \n",
    "    # Title with columns name.\n",
    "    plt.title(col)\n",
    "    # histogram of each column \n",
    "    plt.hist(df[col])\n",
    "    plt.show()"
   ]
  },
  {
   "cell_type": "markdown",
   "metadata": {},
   "source": [
    "## Get the value counts per column"
   ]
  },
  {
   "cell_type": "code",
   "execution_count": 14,
   "metadata": {},
   "outputs": [
    {
     "name": "stdout",
     "output_type": "stream",
     "text": [
      "bedrooms\n",
      "3.0     23359\n",
      "4.0     15240\n",
      "2.0      8340\n",
      "5.0      3973\n",
      "6.0       635\n",
      "1.0       612\n",
      "0.0       137\n",
      "7.0       106\n",
      "8.0        24\n",
      "9.0         8\n",
      "12.0        3\n",
      "10.0        2\n",
      "14.0        1\n",
      "11.0        1\n",
      "Name: bedrooms, dtype: int64\n",
      "~~~~~~~~~~~~~~~~~~~~~~~~~~~~~~~~~~~~\n",
      "\n",
      "bathrooms\n",
      "2.0     21893\n",
      "3.0     10673\n",
      "1.0      9568\n",
      "2.5      3934\n",
      "4.0      2227\n",
      "3.5       918\n",
      "1.5       841\n",
      "5.0       803\n",
      "4.5       687\n",
      "6.0       322\n",
      "5.5       224\n",
      "0.0       121\n",
      "7.0        88\n",
      "8.0        53\n",
      "6.5        47\n",
      "7.5        16\n",
      "9.0        13\n",
      "10.0        5\n",
      "11.0        3\n",
      "8.5         3\n",
      "18.0        1\n",
      "13.0        1\n",
      "Name: bathrooms, dtype: int64\n",
      "~~~~~~~~~~~~~~~~~~~~~~~~~~~~~~~~~~~~\n",
      "\n",
      "sqft\n",
      "1120.0    128\n",
      "1200.0    119\n",
      "1080.0    102\n",
      "1040.0     86\n",
      "936.0      86\n",
      "         ... \n",
      "7088.0      1\n",
      "604.0       1\n",
      "5422.0      1\n",
      "534.0       1\n",
      "5655.0      1\n",
      "Name: sqft, Length: 4723, dtype: int64\n",
      "~~~~~~~~~~~~~~~~~~~~~~~~~~~~~~~~~~~~\n",
      "\n",
      "tax_value\n",
      "455000.0    34\n",
      "600000.0    30\n",
      "500000.0    24\n",
      "450000.0    24\n",
      "550000.0    24\n",
      "            ..\n",
      "209341.0     1\n",
      "203304.0     1\n",
      "497409.0     1\n",
      "421945.0     1\n",
      "49546.0      1\n",
      "Name: tax_value, Length: 38942, dtype: int64\n",
      "~~~~~~~~~~~~~~~~~~~~~~~~~~~~~~~~~~~~\n",
      "\n",
      "year_built\n",
      "1955.0    1899\n",
      "1950.0    1608\n",
      "1954.0    1520\n",
      "1953.0    1485\n",
      "1956.0    1387\n",
      "          ... \n",
      "1892.0       1\n",
      "1878.0       1\n",
      "1882.0       1\n",
      "1894.0       1\n",
      "1880.0       1\n",
      "Name: year_built, Length: 133, dtype: int64\n",
      "~~~~~~~~~~~~~~~~~~~~~~~~~~~~~~~~~~~~\n",
      "\n",
      "fips\n",
      "6037.0    33910\n",
      "6059.0    14136\n",
      "6111.0     4395\n",
      "Name: fips, dtype: int64\n",
      "~~~~~~~~~~~~~~~~~~~~~~~~~~~~~~~~~~~~\n",
      "\n"
     ]
    }
   ],
   "source": [
    "# get value counts and decide on data types\n",
    "for col in cols:\n",
    "    \n",
    "    print(col)\n",
    "    print(df[col].value_counts())\n",
    "    print('~~~~~~~~~~~~~~~~~~~~~~~~~~~~~~~~~~~~')\n",
    "    print()\n"
   ]
  },
  {
   "cell_type": "markdown",
   "metadata": {},
   "source": [
    "## Takeaways\n",
    "- Large number of outliers make the charts look skewed\n",
    "- FIPS can be found on: https://www.nrcs.usda.gov/wps/portal/nrcs/detail/?cid=nrcs143_013697\n",
    "- Change FIPS to county name for easier reference: \n",
    "    - 06037 = Los Angeles County\n",
    "    - 06059 = Orange County\n",
    "    - 06111 = Ventura County"
   ]
  },
  {
   "cell_type": "markdown",
   "metadata": {},
   "source": [
    "## Remove outliers"
   ]
  },
  {
   "cell_type": "markdown",
   "metadata": {},
   "source": [
    "Using function from Wrangle exercise we can remove the outliers. In this function we will identify numbers that are outside the IQR or midspread and remove them. \n",
    "This will allow is to concentrate on the numbers that are the most quan"
   ]
  },
  {
   "cell_type": "code",
   "execution_count": 15,
   "metadata": {},
   "outputs": [],
   "source": [
    "def remove_outliers(df, k, col_list):\n",
    "    ''' remove outliers from a list of columns in a dataframe \n",
    "        and return that dataframe\n",
    "    '''\n",
    "    # Create a column that will label our rows as containing an outlier value or not\n",
    "    num_obs = df.shape[0]\n",
    "    df['outlier'] = False\n",
    "    for col in col_list:\n",
    "\n",
    "        q1, q3 = df[col].quantile([.25, .75])  # get quartiles\n",
    "        \n",
    "        iqr = q3 - q1   # calculate interquartile range\n",
    "        \n",
    "        upper_bound = q3 + k * iqr   # get upper bound\n",
    "        lower_bound = q1 - k * iqr   # get lower bound\n",
    "\n",
    "        # update the outlier label any time that the value is outside of boundaries\n",
    "        df['outlier'] = np.where(((df[col] < lower_bound) | (df[col] > upper_bound)) & (df.outlier == False), True, df.outlier)\n",
    "    \n",
    "    df = df[df.outlier == False]\n",
    "    df.drop(columns=['outlier'], inplace=True)\n",
    "    print(f\"Number of observations removed: {num_obs - df.shape[0]}\")\n",
    "        \n",
    "    return df"
   ]
  },
  {
   "cell_type": "code",
   "execution_count": 16,
   "metadata": {},
   "outputs": [
    {
     "name": "stdout",
     "output_type": "stream",
     "text": [
      "Number of observations removed: 5670\n"
     ]
    }
   ],
   "source": [
    "df = remove_outliers(df, 1.5, ['bedrooms', 'bathrooms', 'sqft', 'tax_value'])"
   ]
  },
  {
   "cell_type": "code",
   "execution_count": 17,
   "metadata": {},
   "outputs": [
    {
     "data": {
      "text/html": [
       "<div>\n",
       "<style scoped>\n",
       "    .dataframe tbody tr th:only-of-type {\n",
       "        vertical-align: middle;\n",
       "    }\n",
       "\n",
       "    .dataframe tbody tr th {\n",
       "        vertical-align: top;\n",
       "    }\n",
       "\n",
       "    .dataframe thead th {\n",
       "        text-align: right;\n",
       "    }\n",
       "</style>\n",
       "<table border=\"1\" class=\"dataframe\">\n",
       "  <thead>\n",
       "    <tr style=\"text-align: right;\">\n",
       "      <th></th>\n",
       "      <th>bedrooms</th>\n",
       "      <th>bathrooms</th>\n",
       "      <th>sqft</th>\n",
       "      <th>tax_value</th>\n",
       "      <th>year_built</th>\n",
       "      <th>fips</th>\n",
       "    </tr>\n",
       "  </thead>\n",
       "  <tbody>\n",
       "    <tr>\n",
       "      <th>0</th>\n",
       "      <td>4.0</td>\n",
       "      <td>3.5</td>\n",
       "      <td>3100.0</td>\n",
       "      <td>1023282.0</td>\n",
       "      <td>1998.0</td>\n",
       "      <td>6059.0</td>\n",
       "    </tr>\n",
       "    <tr>\n",
       "      <th>1</th>\n",
       "      <td>2.0</td>\n",
       "      <td>1.0</td>\n",
       "      <td>1465.0</td>\n",
       "      <td>464000.0</td>\n",
       "      <td>1967.0</td>\n",
       "      <td>6111.0</td>\n",
       "    </tr>\n",
       "    <tr>\n",
       "      <th>2</th>\n",
       "      <td>3.0</td>\n",
       "      <td>2.0</td>\n",
       "      <td>1243.0</td>\n",
       "      <td>564778.0</td>\n",
       "      <td>1962.0</td>\n",
       "      <td>6059.0</td>\n",
       "    </tr>\n",
       "    <tr>\n",
       "      <th>3</th>\n",
       "      <td>4.0</td>\n",
       "      <td>3.0</td>\n",
       "      <td>2376.0</td>\n",
       "      <td>145143.0</td>\n",
       "      <td>1970.0</td>\n",
       "      <td>6037.0</td>\n",
       "    </tr>\n",
       "    <tr>\n",
       "      <th>4</th>\n",
       "      <td>4.0</td>\n",
       "      <td>3.0</td>\n",
       "      <td>2962.0</td>\n",
       "      <td>773303.0</td>\n",
       "      <td>1950.0</td>\n",
       "      <td>6037.0</td>\n",
       "    </tr>\n",
       "  </tbody>\n",
       "</table>\n",
       "</div>"
      ],
      "text/plain": [
       "   bedrooms  bathrooms    sqft  tax_value  year_built    fips\n",
       "0       4.0        3.5  3100.0  1023282.0      1998.0  6059.0\n",
       "1       2.0        1.0  1465.0   464000.0      1967.0  6111.0\n",
       "2       3.0        2.0  1243.0   564778.0      1962.0  6059.0\n",
       "3       4.0        3.0  2376.0   145143.0      1970.0  6037.0\n",
       "4       4.0        3.0  2962.0   773303.0      1950.0  6037.0"
      ]
     },
     "execution_count": 17,
     "metadata": {},
     "output_type": "execute_result"
    }
   ],
   "source": [
    "df.head()"
   ]
  },
  {
   "cell_type": "code",
   "execution_count": 18,
   "metadata": {},
   "outputs": [
    {
     "name": "stdout",
     "output_type": "stream",
     "text": [
      "<class 'pandas.core.frame.DataFrame'>\n",
      "Int64Index: 46771 entries, 0 to 52440\n",
      "Data columns (total 6 columns):\n",
      " #   Column      Non-Null Count  Dtype  \n",
      "---  ------      --------------  -----  \n",
      " 0   bedrooms    46771 non-null  float64\n",
      " 1   bathrooms   46771 non-null  float64\n",
      " 2   sqft        46767 non-null  float64\n",
      " 3   tax_value   46770 non-null  float64\n",
      " 4   year_built  46741 non-null  float64\n",
      " 5   fips        46771 non-null  float64\n",
      "dtypes: float64(6)\n",
      "memory usage: 2.5 MB\n"
     ]
    }
   ],
   "source": [
    "df.info()"
   ]
  },
  {
   "cell_type": "markdown",
   "metadata": {},
   "source": [
    "Min and Max are smaller so we can try visualization again"
   ]
  },
  {
   "cell_type": "code",
   "execution_count": 19,
   "metadata": {},
   "outputs": [
    {
     "data": {
      "text/html": [
       "<div>\n",
       "<style scoped>\n",
       "    .dataframe tbody tr th:only-of-type {\n",
       "        vertical-align: middle;\n",
       "    }\n",
       "\n",
       "    .dataframe tbody tr th {\n",
       "        vertical-align: top;\n",
       "    }\n",
       "\n",
       "    .dataframe thead th {\n",
       "        text-align: right;\n",
       "    }\n",
       "</style>\n",
       "<table border=\"1\" class=\"dataframe\">\n",
       "  <thead>\n",
       "    <tr style=\"text-align: right;\">\n",
       "      <th></th>\n",
       "      <th>count</th>\n",
       "      <th>mean</th>\n",
       "      <th>std</th>\n",
       "      <th>min</th>\n",
       "      <th>25%</th>\n",
       "      <th>50%</th>\n",
       "      <th>75%</th>\n",
       "      <th>max</th>\n",
       "    </tr>\n",
       "  </thead>\n",
       "  <tbody>\n",
       "    <tr>\n",
       "      <th>bedrooms</th>\n",
       "      <td>46771.0</td>\n",
       "      <td>3.229544</td>\n",
       "      <td>0.798486</td>\n",
       "      <td>2.0</td>\n",
       "      <td>3.0</td>\n",
       "      <td>3.0</td>\n",
       "      <td>4.00</td>\n",
       "      <td>5.0</td>\n",
       "    </tr>\n",
       "    <tr>\n",
       "      <th>bathrooms</th>\n",
       "      <td>46771.0</td>\n",
       "      <td>2.135330</td>\n",
       "      <td>0.757525</td>\n",
       "      <td>1.0</td>\n",
       "      <td>2.0</td>\n",
       "      <td>2.0</td>\n",
       "      <td>3.00</td>\n",
       "      <td>4.5</td>\n",
       "    </tr>\n",
       "    <tr>\n",
       "      <th>sqft</th>\n",
       "      <td>46767.0</td>\n",
       "      <td>1738.369513</td>\n",
       "      <td>650.795133</td>\n",
       "      <td>152.0</td>\n",
       "      <td>1248.0</td>\n",
       "      <td>1593.0</td>\n",
       "      <td>2111.00</td>\n",
       "      <td>3863.0</td>\n",
       "    </tr>\n",
       "    <tr>\n",
       "      <th>tax_value</th>\n",
       "      <td>46770.0</td>\n",
       "      <td>388250.607783</td>\n",
       "      <td>263242.063024</td>\n",
       "      <td>1000.0</td>\n",
       "      <td>178569.0</td>\n",
       "      <td>344151.5</td>\n",
       "      <td>539005.25</td>\n",
       "      <td>1256879.0</td>\n",
       "    </tr>\n",
       "    <tr>\n",
       "      <th>year_built</th>\n",
       "      <td>46741.0</td>\n",
       "      <td>1962.540874</td>\n",
       "      <td>22.071375</td>\n",
       "      <td>1878.0</td>\n",
       "      <td>1950.0</td>\n",
       "      <td>1960.0</td>\n",
       "      <td>1977.00</td>\n",
       "      <td>2016.0</td>\n",
       "    </tr>\n",
       "    <tr>\n",
       "      <th>fips</th>\n",
       "      <td>46771.0</td>\n",
       "      <td>6049.258151</td>\n",
       "      <td>21.246155</td>\n",
       "      <td>6037.0</td>\n",
       "      <td>6037.0</td>\n",
       "      <td>6037.0</td>\n",
       "      <td>6059.00</td>\n",
       "      <td>6111.0</td>\n",
       "    </tr>\n",
       "  </tbody>\n",
       "</table>\n",
       "</div>"
      ],
      "text/plain": [
       "              count           mean            std     min       25%       50%  \\\n",
       "bedrooms    46771.0       3.229544       0.798486     2.0       3.0       3.0   \n",
       "bathrooms   46771.0       2.135330       0.757525     1.0       2.0       2.0   \n",
       "sqft        46767.0    1738.369513     650.795133   152.0    1248.0    1593.0   \n",
       "tax_value   46770.0  388250.607783  263242.063024  1000.0  178569.0  344151.5   \n",
       "year_built  46741.0    1962.540874      22.071375  1878.0    1950.0    1960.0   \n",
       "fips        46771.0    6049.258151      21.246155  6037.0    6037.0    6037.0   \n",
       "\n",
       "                  75%        max  \n",
       "bedrooms         4.00        5.0  \n",
       "bathrooms        3.00        4.5  \n",
       "sqft          2111.00     3863.0  \n",
       "tax_value   539005.25  1256879.0  \n",
       "year_built    1977.00     2016.0  \n",
       "fips          6059.00     6111.0  "
      ]
     },
     "execution_count": 19,
     "metadata": {},
     "output_type": "execute_result"
    }
   ],
   "source": [
    "df.describe().T"
   ]
  },
  {
   "cell_type": "code",
   "execution_count": 20,
   "metadata": {},
   "outputs": [
    {
     "data": {
      "image/png": "[encoded data removed]",
      "text/plain": [
       "<Figure size 432x288 with 1 Axes>"
      ]
     },
     "metadata": {
      "needs_background": "light"
     },
     "output_type": "display_data"
    },
    {
     "data": {
      "image/png": "[encoded data removed]",
      "text/plain": [
       "<Figure size 432x288 with 1 Axes>"
      ]
     },
     "metadata": {
      "needs_background": "light"
     },
     "output_type": "display_data"
    },
    {
     "data": {
      "image/png": "[encoded data removed]",
      "text/plain": [
       "<Figure size 432x288 with 1 Axes>"
      ]
     },
     "metadata": {
      "needs_background": "light"
     },
     "output_type": "display_data"
    },
    {
     "data": {
      "image/png": "[encoded data removed]",
      "text/plain": [
       "<Figure size 432x288 with 1 Axes>"
      ]
     },
     "metadata": {
      "needs_background": "light"
     },
     "output_type": "display_data"
    },
    {
     "data": {
      "image/png": "[encoded data removed]",
      "text/plain": [
       "<Figure size 432x288 with 1 Axes>"
      ]
     },
     "metadata": {
      "needs_background": "light"
     },
     "output_type": "display_data"
    },
    {
     "data": {
      "image/png": "[encoded data removed]",
      "text/plain": [
       "<Figure size 432x288 with 1 Axes>"
      ]
     },
     "metadata": {
      "needs_background": "light"
     },
     "output_type": "display_data"
    }
   ],
   "source": [
    "\n",
    "# List of columns\n",
    "cols = df.columns\n",
    "\n",
    "\n",
    "for col in cols:\n",
    "   \n",
    "    # Title with columns name.\n",
    "    plt.title(col)\n",
    "    # histogram of each column \n",
    "    plt.hist(df[col])\n",
    "    plt.show()"
   ]
  },
  {
   "cell_type": "code",
   "execution_count": 21,
   "metadata": {},
   "outputs": [
    {
     "name": "stdout",
     "output_type": "stream",
     "text": [
      "bedrooms\n",
      "3.0    22398\n",
      "4.0    13599\n",
      "2.0     8137\n",
      "5.0     2637\n",
      "Name: bedrooms, dtype: int64\n",
      "~~~~~~~~~~~~~~~~~~~~~~~~~~~~~~~~~~~~\n",
      "\n",
      "bathrooms\n",
      "2.0    21315\n",
      "3.0     9733\n",
      "1.0     8936\n",
      "2.5     3831\n",
      "4.0     1298\n",
      "1.5      835\n",
      "3.5      619\n",
      "4.5      204\n",
      "Name: bathrooms, dtype: int64\n",
      "~~~~~~~~~~~~~~~~~~~~~~~~~~~~~~~~~~~~\n",
      "\n",
      "sqft\n",
      "1120.0    127\n",
      "1200.0    116\n",
      "1080.0    100\n",
      "936.0      86\n",
      "1040.0     84\n",
      "         ... \n",
      "3369.0      1\n",
      "3737.0      1\n",
      "3494.0      1\n",
      "3405.0      1\n",
      "512.0       1\n",
      "Name: sqft, Length: 3146, dtype: int64\n",
      "~~~~~~~~~~~~~~~~~~~~~~~~~~~~~~~~~~~~\n",
      "\n",
      "tax_value\n",
      "455000.0    34\n",
      "600000.0    30\n",
      "500000.0    24\n",
      "450000.0    23\n",
      "550000.0    23\n",
      "            ..\n",
      "519222.0     1\n",
      "477330.0     1\n",
      "977685.0     1\n",
      "348301.0     1\n",
      "49546.0      1\n",
      "Name: tax_value, Length: 34274, dtype: int64\n",
      "~~~~~~~~~~~~~~~~~~~~~~~~~~~~~~~~~~~~\n",
      "\n",
      "year_built\n",
      "1955.0    1831\n",
      "1950.0    1516\n",
      "1954.0    1457\n",
      "1953.0    1413\n",
      "1956.0    1321\n",
      "          ... \n",
      "1897.0       1\n",
      "1878.0       1\n",
      "1882.0       1\n",
      "1894.0       1\n",
      "1880.0       1\n",
      "Name: year_built, Length: 131, dtype: int64\n",
      "~~~~~~~~~~~~~~~~~~~~~~~~~~~~~~~~~~~~\n",
      "\n",
      "fips\n",
      "6037.0    30248\n",
      "6059.0    12488\n",
      "6111.0     4035\n",
      "Name: fips, dtype: int64\n",
      "~~~~~~~~~~~~~~~~~~~~~~~~~~~~~~~~~~~~\n",
      "\n"
     ]
    }
   ],
   "source": [
    "# get value counts and decide on data types\n",
    "for col in cols:\n",
    "    \n",
    "    print(col)\n",
    "    print(df[col].value_counts())\n",
    "    print('~~~~~~~~~~~~~~~~~~~~~~~~~~~~~~~~~~~~')\n",
    "    print()"
   ]
  },
  {
   "cell_type": "markdown",
   "metadata": {},
   "source": [
    "## Drop duplicates  \n"
   ]
  },
  {
   "cell_type": "code",
   "execution_count": 22,
   "metadata": {},
   "outputs": [
    {
     "data": {
      "text/plain": [
       "(46596, 6)"
      ]
     },
     "execution_count": 22,
     "metadata": {},
     "output_type": "execute_result"
    }
   ],
   "source": [
    "df = df.drop_duplicates()\n",
    "df.shape"
   ]
  },
  {
   "cell_type": "markdown",
   "metadata": {},
   "source": [
    "## Drop null values\n"
   ]
  },
  {
   "cell_type": "code",
   "execution_count": 23,
   "metadata": {},
   "outputs": [
    {
     "data": {
      "text/plain": [
       "(46565, 6)"
      ]
     },
     "execution_count": 23,
     "metadata": {},
     "output_type": "execute_result"
    }
   ],
   "source": [
    "df = df.dropna()\n",
    "df.shape"
   ]
  },
  {
   "cell_type": "markdown",
   "metadata": {},
   "source": [
    "## Change ds type for fips, yearbuilt and bedrooms.\n"
   ]
  },
  {
   "cell_type": "code",
   "execution_count": 24,
   "metadata": {},
   "outputs": [],
   "source": [
    "df.fips = df.fips.astype(object)\n",
    "df.year_built = df.year_built.astype(int)\n",
    "df.bedrooms = df.bedrooms.astype(int)"
   ]
  },
  {
   "cell_type": "markdown",
   "metadata": {},
   "source": [
    "## Review changes"
   ]
  },
  {
   "cell_type": "code",
   "execution_count": 25,
   "metadata": {},
   "outputs": [
    {
     "name": "stdout",
     "output_type": "stream",
     "text": [
      "<class 'pandas.core.frame.DataFrame'>\n",
      "Int64Index: 46565 entries, 0 to 52440\n",
      "Data columns (total 6 columns):\n",
      " #   Column      Non-Null Count  Dtype  \n",
      "---  ------      --------------  -----  \n",
      " 0   bedrooms    46565 non-null  int64  \n",
      " 1   bathrooms   46565 non-null  float64\n",
      " 2   sqft        46565 non-null  float64\n",
      " 3   tax_value   46565 non-null  float64\n",
      " 4   year_built  46565 non-null  int64  \n",
      " 5   fips        46565 non-null  object \n",
      "dtypes: float64(3), int64(2), object(1)\n",
      "memory usage: 2.5+ MB\n"
     ]
    }
   ],
   "source": [
    "df.info()"
   ]
  },
  {
   "cell_type": "markdown",
   "metadata": {},
   "source": [
    "## Change FIPS to county name for easier reference: \n",
    "    - 6037 = Los Angeles County\n",
    "    - 6059 = Orange County\n",
    "    - 6111 = Ventura County"
   ]
  },
  {
   "cell_type": "code",
   "execution_count": 26,
   "metadata": {},
   "outputs": [
    {
     "data": {
      "text/html": [
       "<div>\n",
       "<style scoped>\n",
       "    .dataframe tbody tr th:only-of-type {\n",
       "        vertical-align: middle;\n",
       "    }\n",
       "\n",
       "    .dataframe tbody tr th {\n",
       "        vertical-align: top;\n",
       "    }\n",
       "\n",
       "    .dataframe thead th {\n",
       "        text-align: right;\n",
       "    }\n",
       "</style>\n",
       "<table border=\"1\" class=\"dataframe\">\n",
       "  <thead>\n",
       "    <tr style=\"text-align: right;\">\n",
       "      <th></th>\n",
       "      <th>bedrooms</th>\n",
       "      <th>bathrooms</th>\n",
       "      <th>sqft</th>\n",
       "      <th>tax_value</th>\n",
       "      <th>year_built</th>\n",
       "      <th>county</th>\n",
       "    </tr>\n",
       "  </thead>\n",
       "  <tbody>\n",
       "    <tr>\n",
       "      <th>0</th>\n",
       "      <td>4</td>\n",
       "      <td>3.5</td>\n",
       "      <td>3100.0</td>\n",
       "      <td>1023282.0</td>\n",
       "      <td>1998</td>\n",
       "      <td>Orange</td>\n",
       "    </tr>\n",
       "    <tr>\n",
       "      <th>1</th>\n",
       "      <td>2</td>\n",
       "      <td>1.0</td>\n",
       "      <td>1465.0</td>\n",
       "      <td>464000.0</td>\n",
       "      <td>1967</td>\n",
       "      <td>Ventura</td>\n",
       "    </tr>\n",
       "    <tr>\n",
       "      <th>2</th>\n",
       "      <td>3</td>\n",
       "      <td>2.0</td>\n",
       "      <td>1243.0</td>\n",
       "      <td>564778.0</td>\n",
       "      <td>1962</td>\n",
       "      <td>Orange</td>\n",
       "    </tr>\n",
       "    <tr>\n",
       "      <th>3</th>\n",
       "      <td>4</td>\n",
       "      <td>3.0</td>\n",
       "      <td>2376.0</td>\n",
       "      <td>145143.0</td>\n",
       "      <td>1970</td>\n",
       "      <td>Los_Angeles</td>\n",
       "    </tr>\n",
       "    <tr>\n",
       "      <th>4</th>\n",
       "      <td>4</td>\n",
       "      <td>3.0</td>\n",
       "      <td>2962.0</td>\n",
       "      <td>773303.0</td>\n",
       "      <td>1950</td>\n",
       "      <td>Los_Angeles</td>\n",
       "    </tr>\n",
       "  </tbody>\n",
       "</table>\n",
       "</div>"
      ],
      "text/plain": [
       "   bedrooms  bathrooms    sqft  tax_value  year_built       county\n",
       "0         4        3.5  3100.0  1023282.0        1998       Orange\n",
       "1         2        1.0  1465.0   464000.0        1967      Ventura\n",
       "2         3        2.0  1243.0   564778.0        1962       Orange\n",
       "3         4        3.0  2376.0   145143.0        1970  Los_Angeles\n",
       "4         4        3.0  2962.0   773303.0        1950  Los_Angeles"
      ]
     },
     "execution_count": 26,
     "metadata": {},
     "output_type": "execute_result"
    }
   ],
   "source": [
    "df = df.rename(columns={'fips':'county'})\n",
    "df = df.replace({'county':{6111:'Ventura', 6059:'Orange', 6037:'Los_Angeles'}})\n",
    "df.head()\n"
   ]
  },
  {
   "cell_type": "markdown",
   "metadata": {},
   "source": [
    "## Function to clean Zillow data\n"
   ]
  },
  {
   "cell_type": "code",
   "execution_count": 27,
   "metadata": {},
   "outputs": [],
   "source": [
    "def clean_zillow_data(df):\n",
    "    \n",
    "    '''This function will clean Zillow data'''\n",
    "\n",
    "    # drop duplicates\n",
    "    df = df.drop_duplicates()\n",
    "    \n",
    "    # drop null values\n",
    "    df = df.dropna()\n",
    "    \n",
    "    # change types\n",
    "    df[['bedrooms', 'year_built']] = df[['bedrooms', 'year_built']].astype(int)\n",
    "    df.fips = df.fips.astype(object)\n",
    "\n",
    "    # rename fips column \n",
    "    df = df.rename(columns={'fips':'county'})\n",
    "    \n",
    "    # replace values for county names\n",
    "    df = df.replace({'county':{6111:'Ventura', 6059:'Orange', 6037:'Los_Angeles'}})\n",
    "    \n",
    "    return df"
   ]
  },
  {
   "cell_type": "code",
   "execution_count": 29,
   "metadata": {},
   "outputs": [
    {
     "data": {
      "text/html": [
       "<div>\n",
       "<style scoped>\n",
       "    .dataframe tbody tr th:only-of-type {\n",
       "        vertical-align: middle;\n",
       "    }\n",
       "\n",
       "    .dataframe tbody tr th {\n",
       "        vertical-align: top;\n",
       "    }\n",
       "\n",
       "    .dataframe thead th {\n",
       "        text-align: right;\n",
       "    }\n",
       "</style>\n",
       "<table border=\"1\" class=\"dataframe\">\n",
       "  <thead>\n",
       "    <tr style=\"text-align: right;\">\n",
       "      <th></th>\n",
       "      <th>bedrooms</th>\n",
       "      <th>bathrooms</th>\n",
       "      <th>sqft</th>\n",
       "      <th>tax_value</th>\n",
       "      <th>year_built</th>\n",
       "      <th>county</th>\n",
       "    </tr>\n",
       "  </thead>\n",
       "  <tbody>\n",
       "    <tr>\n",
       "      <th>0</th>\n",
       "      <td>4</td>\n",
       "      <td>3.5</td>\n",
       "      <td>3100.0</td>\n",
       "      <td>1023282.0</td>\n",
       "      <td>1998</td>\n",
       "      <td>Orange</td>\n",
       "    </tr>\n",
       "    <tr>\n",
       "      <th>1</th>\n",
       "      <td>2</td>\n",
       "      <td>1.0</td>\n",
       "      <td>1465.0</td>\n",
       "      <td>464000.0</td>\n",
       "      <td>1967</td>\n",
       "      <td>Ventura</td>\n",
       "    </tr>\n",
       "    <tr>\n",
       "      <th>2</th>\n",
       "      <td>3</td>\n",
       "      <td>2.0</td>\n",
       "      <td>1243.0</td>\n",
       "      <td>564778.0</td>\n",
       "      <td>1962</td>\n",
       "      <td>Orange</td>\n",
       "    </tr>\n",
       "    <tr>\n",
       "      <th>3</th>\n",
       "      <td>4</td>\n",
       "      <td>3.0</td>\n",
       "      <td>2376.0</td>\n",
       "      <td>145143.0</td>\n",
       "      <td>1970</td>\n",
       "      <td>Los_Angeles</td>\n",
       "    </tr>\n",
       "    <tr>\n",
       "      <th>4</th>\n",
       "      <td>4</td>\n",
       "      <td>3.0</td>\n",
       "      <td>2962.0</td>\n",
       "      <td>773303.0</td>\n",
       "      <td>1950</td>\n",
       "      <td>Los_Angeles</td>\n",
       "    </tr>\n",
       "  </tbody>\n",
       "</table>\n",
       "</div>"
      ],
      "text/plain": [
       "   bedrooms  bathrooms    sqft  tax_value  year_built       county\n",
       "0         4        3.5  3100.0  1023282.0        1998       Orange\n",
       "1         2        1.0  1465.0   464000.0        1967      Ventura\n",
       "2         3        2.0  1243.0   564778.0        1962       Orange\n",
       "3         4        3.0  2376.0   145143.0        1970  Los_Angeles\n",
       "4         4        3.0  2962.0   773303.0        1950  Los_Angeles"
      ]
     },
     "execution_count": 29,
     "metadata": {},
     "output_type": "execute_result"
    }
   ],
   "source": [
    "df.head()"
   ]
  },
  {
   "cell_type": "markdown",
   "metadata": {},
   "source": [
    "# Split data"
   ]
  },
  {
   "cell_type": "code",
   "execution_count": 30,
   "metadata": {},
   "outputs": [
    {
     "data": {
      "text/plain": [
       "((26076, 6), (9313, 6), (11176, 6))"
      ]
     },
     "execution_count": 30,
     "metadata": {},
     "output_type": "execute_result"
    }
   ],
   "source": [
    "train_validate, test = train_test_split(df, test_size=.2, random_state=177)\n",
    "train, validate = train_test_split(train_validate, test_size=.3, random_state=177)\n",
    "train.shape, test.shape, validate.shape"
   ]
  },
  {
   "cell_type": "code",
   "execution_count": 31,
   "metadata": {},
   "outputs": [],
   "source": [
    "def split_zillow_data(df):\n",
    "\n",
    "    ''' this function will take your raw data frame, clean it and split it'''\n",
    "    \n",
    "    # cleans data using function\n",
    "    df = clean_zillow_data(df)\n",
    "    \n",
    "    # split the data\n",
    "    train_validate, test = train_test_split(df, test_size=.2, random_state=177)\n",
    "    train, validate = train_test_split(train_validate, test_size=.3, random_state=177)\n",
    "    \n",
    "    # show the split\n",
    "    print(f'Dataframe has been split: ')\n",
    "    print(f'Train: {train.shape}')\n",
    "    print(f'Validate: {validate.shape}')\n",
    "    print(f'Test: {test.shape}')\n",
    "    \n",
    "    # return train validate and test\n",
    "    return train, validate, test"
   ]
  },
  {
   "cell_type": "code",
   "execution_count": null,
   "metadata": {},
   "outputs": [],
   "source": []
  }
 ],
 "metadata": {
  "interpreter": {
   "hash": "38cca0c38332a56087b24af0bc80247f4fced29cb4f7f437d91dc159adec9c4e"
  },
  "kernelspec": {
   "display_name": "Python 3.9.7 ('base')",
   "language": "python",
   "name": "python3"
  },
  "language_info": {
   "codemirror_mode": {
    "name": "ipython",
    "version": 3
   },
   "file_extension": ".py",
   "mimetype": "text/x-python",
   "name": "python",
   "nbconvert_exporter": "python",
   "pygments_lexer": "ipython3",
   "version": "3.9.7"
  },
  "orig_nbformat": 4
 },
 "nbformat": 4,
 "nbformat_minor": 2
}
